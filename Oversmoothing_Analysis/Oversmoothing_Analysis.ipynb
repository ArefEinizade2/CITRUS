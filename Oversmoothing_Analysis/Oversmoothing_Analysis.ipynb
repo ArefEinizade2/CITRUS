{
 "cells": [
  {
   "cell_type": "markdown",
   "id": "2dba5e4a",
   "metadata": {},
   "source": [
    "First, we import neede packages and fix the random seeds for reproducibilty."
   ]
  },
  {
   "cell_type": "code",
   "execution_count": 1,
   "id": "f061d3ac",
   "metadata": {},
   "outputs": [],
   "source": [
    "import numpy as np\n",
    "from scipy.linalg import expm, sinm, cosm\n",
    "import networkx as nx\n",
    "from numpy import linalg as LA\n",
    "from scipy import sparse\n",
    "import torch\n",
    "import matplotlib.pyplot as plt\n",
    "import matplotlib\n",
    "import random\n",
    "np.random.seed(8)\n",
    "torch.manual_seed(0)\n",
    "random.seed(0)\n",
    "# plt.rcParams['text.usetex'] = False\n",
    "# plt.rcParams['font.family'] = 'serif'\n",
    "# plt.rcParams['font.serif'] = 'Times'\n",
    "# font_size = 24\n",
    "\n",
    "# font = {'size': font_size - 2}\n",
    "# plt.rc('font', **font)"
   ]
  },
  {
   "cell_type": "markdown",
   "id": "5cac8a4c",
   "metadata": {},
   "source": [
    "A function to implement the Cartesian product between two matrices $A$ and $B$:"
   ]
  },
  {
   "cell_type": "code",
   "execution_count": 2,
   "id": "6208d456",
   "metadata": {},
   "outputs": [],
   "source": [
    "def Cartesian_Product(A, B):\n",
    "    C = np.kron(A, np.eye(B.shape[0])) + np.kron(np.eye(A.shape[0]), B)\n",
    "    return C"
   ]
  },
  {
   "cell_type": "markdown",
   "id": "627bf1fd",
   "metadata": {},
   "source": [
    "A function to generate connceted Erdős-Rényi (ER) graphs with the number of nodes $n$ and edge probabilty $p$:"
   ]
  },
  {
   "cell_type": "code",
   "execution_count": 3,
   "id": "75c2f7f7",
   "metadata": {},
   "outputs": [],
   "source": [
    "def gen_connected_ER(n, p):\n",
    "    connected = False\n",
    "    while not connected:\n",
    "        G = nx.erdos_renyi_graph(n, p)\n",
    "        connected = nx.is_connected(G)\n",
    "    return G"
   ]
  },
  {
   "cell_type": "markdown",
   "id": "7bcbd33b",
   "metadata": {},
   "source": [
    "A function to generate ER factor graphs with a list N for their number of nodes and a list p_ER for their edge probabilties. Then, it returns the spectrum of the resulted Cartesian product graph."
   ]
  },
  {
   "cell_type": "code",
   "execution_count": 4,
   "id": "6ab0307a",
   "metadata": {},
   "outputs": [],
   "source": [
    "def gen_factor_graphs(N, p_ER, k):\n",
    "    \n",
    "    r\"\"\"The hypergraph convolutional operator from the `\"Hypergraph Convolution\n",
    "    and Hypergraph Attention\" <https://arxiv.org/abs/1901.08150>`_ paper.\n",
    "\n",
    "    .. math::\n",
    "        \\mathbf{X}^{\\prime} = \\mathbf{D}^{-1} \\mathbf{H} \\mathbf{W}\n",
    "        \\mathbf{B}^{-1} \\mathbf{H}^{\\top} \\mathbf{X} \\mathbf{\\Theta}\n",
    "\n",
    "    where :math:`\\mathbf{H} \\in {\\{ 0, 1 \\}}^{N \\times M}` is the incidence\n",
    "    matrix, :math:`\\mathbf{W} \\in \\mathbb{R}^M` is the diagonal hyperedge\n",
    "    weight matrix, and\n",
    "    :math:`\\mathbf{D}` and :math:`\\mathbf{B}` are the corresponding degree\n",
    "    matrices.\n",
    "\n",
    "    For example, in the hypergraph scenario\n",
    "    :math:`\\mathcal{G} = (\\mathcal{V}, \\mathcal{E})` with\n",
    "    :math:`\\mathcal{V} = \\{ 0, 1, 2, 3 \\}` and\n",
    "    :math:`\\mathcal{E} = \\{ \\{ 0, 1, 2 \\}, \\{ 1, 2, 3 \\} \\}`, the\n",
    "    :obj:`hyperedge_index` is represented as:\n",
    "\n",
    "    .. code-block:: python\n",
    "\n",
    "        hyperedge_index = torch.tensor([\n",
    "            [0, 1, 2, 1, 2, 3],\n",
    "            [0, 0, 0, 1, 1, 1],\n",
    "        ])\n",
    "\n",
    "    Args:\n",
    "        in_channels (int): Size of each input sample, or :obj:`-1` to derive\n",
    "            the size from the first input(s) to the forward method.\n",
    "        out_channels (int): Size of each output sample.\n",
    "        use_attention (bool, optional): If set to :obj:`True`, attention\n",
    "            will be added to this layer. (default: :obj:`False`)\n",
    "        attention_mode (str, optional): The mode on how to compute attention.\n",
    "            If set to :obj:`\"node\"`, will compute attention scores of nodes\n",
    "            within all nodes belonging to the same hyperedge.\n",
    "            If set to :obj:`\"edge\"`, will compute attention scores of nodes\n",
    "            across all edges holding this node belongs to.\n",
    "            (default: :obj:`\"node\"`)\n",
    "        heads (int, optional): Number of multi-head-attentions.\n",
    "            (default: :obj:`1`)\n",
    "        concat (bool, optional): If set to :obj:`False`, the multi-head\n",
    "            attentions are averaged instead of concatenated.\n",
    "            (default: :obj:`True`)\n",
    "        negative_slope (float, optional): LeakyReLU angle of the negative\n",
    "            slope. (default: :obj:`0.2`)\n",
    "        dropout (float, optional): Dropout probability of the normalized\n",
    "            attention coefficients which exposes each node to a stochastically\n",
    "            sampled neighborhood during training. (default: :obj:`0`)\n",
    "        bias (bool, optional): If set to :obj:`False`, the layer will not learn\n",
    "            an additive bias. (default: :obj:`True`)\n",
    "        **kwargs (optional): Additional arguments of\n",
    "            :class:`torch_geometric.nn.conv.MessagePassing`.\n",
    "\n",
    "    Shapes:\n",
    "        - **input:**\n",
    "          node features :math:`(|\\mathcal{V}|, F_{in})`,\n",
    "          hyperedge indices :math:`(|\\mathcal{V}|, |\\mathcal{E}|)`,\n",
    "          hyperedge weights :math:`(|\\mathcal{E}|)` *(optional)*\n",
    "          hyperedge features :math:`(|\\mathcal{E}|, D)` *(optional)*\n",
    "        - **output:** node features :math:`(|\\mathcal{V}|, F_{out})`\n",
    "    \"\"\"\n",
    "    Adj_list = []\n",
    "    P = len(N)\n",
    "    \n",
    "    G = gen_connected_ER(N[0], p_ER[0])\n",
    "    L = nx.laplacian_matrix(G).toarray()\n",
    "    A = nx.to_numpy_array(G)  \n",
    "    Adj_Cart = A\n",
    "    Adj_list.append(A)\n",
    "    \n",
    "    # generating the normalized Laplacian:\n",
    "    degrees = np.sum(A, axis=1)\n",
    "    D_sqrt_inv = np.diag(1.0 / np.sqrt(degrees))\n",
    "    Adj_normalized = np.dot(np.dot(D_sqrt_inv, A), D_sqrt_inv)\n",
    "    L_normalized = np.eye(N[0]) - Adj_normalized\n",
    "    \n",
    "    L_normalized = L_normalized/P\n",
    "    L_Cart = L_normalized\n",
    "    L_normalized_list = [L_normalized]\n",
    "    evals, evecs = LA.eig(L_normalized)\n",
    "    evals = evals.real\n",
    "    evals_list = [evals]\n",
    "    evecs=evecs.real        \n",
    "    evecs_kron = evecs\n",
    "    \n",
    "    for p in range(1, P):\n",
    "        G = gen_connected_ER(N[p], p_ER[p])\n",
    "\n",
    "        Adj_Cart = Cartesian_Product(Adj_Cart, nx.to_numpy_array(G))\n",
    "        L = nx.laplacian_matrix(G).toarray()\n",
    "        A = nx.to_numpy_array(G)\n",
    "        Adj_list.append(A)\n",
    "        \n",
    "        # generating the normalized Laplacian:\n",
    "        degrees = np.sum(A, axis=1)\n",
    "        D_sqrt_inv = np.diag(1.0 / np.sqrt(degrees))\n",
    "        Adj_normalized = np.dot(np.dot(D_sqrt_inv, A), D_sqrt_inv)\n",
    "        L_normalized = np.eye(N[p]) - Adj_normalized\n",
    "        \n",
    "        L_normalized = L_normalized/P\n",
    "        L_Cart = Cartesian_Product(L_Cart, L_normalized)\n",
    "        L_normalized_list.append(L_normalized)\n",
    "        evals, evecs = LA.eig(L_normalized)\n",
    "        evals = evals.real\n",
    "        evals_list.append(evals)\n",
    "        evecs = evecs.real        \n",
    "        evecs_kron = np.kron(evecs_kron, evecs)\n",
    "    evals_Cart, evecs_Cart = LA.eig(L_Cart)\n",
    "    evals_Cart = evals_Cart.real\n",
    "    evecs_Cart = evecs_Cart.real        \n",
    "    \n",
    "    return evecs_kron, evals_list, L_normalized_list, Adj_Cart, Adj_list, L_Cart, evals_Cart, evecs_Cart"
   ]
  },
  {
   "cell_type": "markdown",
   "id": "8afaa96e",
   "metadata": {},
   "source": [
    "A function to to model $ReLU(.)$:"
   ]
  },
  {
   "cell_type": "code",
   "execution_count": 5,
   "id": "859872b2",
   "metadata": {},
   "outputs": [],
   "source": [
    "def relu(x):\n",
    "    return np.maximum(0, x)"
   ]
  },
  {
   "cell_type": "markdown",
   "id": "a84691f0",
   "metadata": {},
   "source": [
    "A function to to model $Leaky ReLU(.)$:"
   ]
  },
  {
   "cell_type": "code",
   "execution_count": 6,
   "id": "5cb73b32",
   "metadata": {},
   "outputs": [],
   "source": [
    "def leaky_relu(x, alpha=0.01):\n",
    "    return np.maximum(alpha * x, x)"
   ]
  },
  {
   "cell_type": "markdown",
   "id": "27f6b9cf",
   "metadata": {},
   "source": [
    "Test the matrix exponential operator:"
   ]
  },
  {
   "cell_type": "code",
   "execution_count": 7,
   "id": "328c7dd2",
   "metadata": {},
   "outputs": [
    {
     "name": "stdout",
     "output_type": "stream",
     "text": [
      "[[2.71828183 0.        ]\n",
      " [0.         2.71828183]]\n"
     ]
    }
   ],
   "source": [
    "a = expm(np.eye(2))\n",
    "print(a)"
   ]
  },
  {
   "cell_type": "code",
   "execution_count": 8,
   "id": "1a06c5e8",
   "metadata": {},
   "outputs": [
    {
     "data": {
      "text/plain": [
       "22.40929816327044"
      ]
     },
     "execution_count": 8,
     "metadata": {},
     "output_type": "execute_result"
    }
   ],
   "source": [
    "#%% maximum singular value:\n",
    "\n",
    "a = np.arange(12)\n",
    "a\n",
    "b = a.reshape((3, 4))\n",
    "U, S, Vh = np.linalg.svd(b, full_matrices=True)\n",
    "LA.norm(b, ord=2)"
   ]
  },
  {
   "cell_type": "markdown",
   "id": "528e36c0",
   "metadata": {},
   "source": [
    "A function to return the Dirichlet energies, actual and theory bounds: "
   ]
  },
  {
   "cell_type": "code",
   "execution_count": 9,
   "id": "808cc644",
   "metadata": {},
   "outputs": [],
   "source": [
    "def Oversmoothing_analysis(N, p_ER, k, t, n_layers_list, Norm_coeff, Fea, X0):\n",
    "\n",
    "    evecs_kron, evals_list, L_normalized_sparse_list, Adj_Cart, Adj_list, L_Cart, evals_Cart, evecs_Cart = gen_factor_graphs(N, p_ER, k)\n",
    "    evals_Cart_sorted = np.sort(evals_Cart)\n",
    "    evals_Cart_ll = evals_Cart_sorted[evals_Cart_sorted>1e-10]\n",
    "    Lambda = np.min(evals_Cart_ll)\n",
    "    \n",
    "    n_layers_list = n_layers_list[1:]\n",
    "    \n",
    "    n_layers = len(n_layers_list)\n",
    "        \n",
    "    E_X0 = np.trace(X0.T@L_Cart@X0)\n",
    "    \n",
    "    E_list = [0]\n",
    "    \n",
    "    E_list_GCN = [0]\n",
    "    \n",
    "    Therorem_bound = [0]\n",
    "    \n",
    "    s_max_list = []\n",
    "    \n",
    "    X_l = X0\n",
    "    \n",
    "    X_l_GCN = X0\n",
    "    \n",
    "    s_list = []\n",
    "    \n",
    "    for l in range(n_layers):\n",
    "        X_l = expm(-t*L_Cart)@X_l\n",
    "        s_MLP = 1\n",
    "        \n",
    "        for ll in range(1):\n",
    "            W_l = np.random.randn(Fea[l], Fea[l+1])/Norm_coeff\n",
    "            s_MLP = s_MLP * (LA.norm(W_l, ord=2)**2)\n",
    "            X_l = relu(X_l@W_l)\n",
    "            \n",
    "        s_list.append(s_MLP)\n",
    "        \n",
    "        E_list.append(np.log(np.trace(X_l.T@L_Cart@X_l)/E_X0))\n",
    "            \n",
    "        s_max = np.max(np.array(s_list))\n",
    "        \n",
    "        s_max_list.append(s_max)\n",
    "        \n",
    "        Therorem_bound.append((l+1)*(np.log(s_max)-t*(Lambda)))\n",
    "        \n",
    "    return E_list, Therorem_bound, Lambda, s_max_list"
   ]
  },
  {
   "cell_type": "code",
   "execution_count": 10,
   "id": "799c8a6b",
   "metadata": {},
   "outputs": [],
   "source": [
    "low_p = 0.05; high_p = 0.95\n",
    "p_ER = [low_p, high_p]\n",
    "N = [10, 15]\n",
    "k = [2, 2]\n",
    "t = 1\n",
    "\n",
    "Norm_coeff = 100\n",
    "\n",
    "# n_layers_list = [0, 1, 2, 4, 8, 16, 32, 64]\n",
    "# n_layers = len(n_layers_list)\n",
    "n_layers = 10\n",
    "n_layers_list = [0] + list(np.arange(n_layers+1))\n",
    "n_layers_list = n_layers_list[1:]\n",
    "\n",
    "Fea = np.arange(start=n_layers+2, stop=1, step=-1)\n",
    "# Fea = (np.mean(n_layers_list)*np.ones(n_layers+1)).astype('int32') \n",
    "\n",
    "X0 = np.random.randn(np.prod(N), Fea[0])\n",
    "\n",
    "E_list, Therorem_bound, Lambda, s_max_list = Oversmoothing_analysis(N, p_ER, \n",
    "                                                                                k, t, \n",
    "                                                                                n_layers_list, \n",
    "                                                                                Norm_coeff,\n",
    "                                                                                Fea, X0)\n",
    "\n",
    "# np.savez('Oversmoothing_Results_1.npz', array1=E_list, array2=Therorem_bound, array3=Lambda, array4=s_max_list)\n",
    "# a = np.load('Oversmoothing_Results_1.npz')\n",
    "# E_list = a['array1']\n",
    "# Therorem_bound = a['array2']\n",
    "# Lambda = a['array3']\n",
    "# s_max_list = a['array4']"
   ]
  },
  {
   "cell_type": "markdown",
   "id": "dff21253",
   "metadata": {},
   "source": [
    "**The first plot:** monitoring the Dirichlet energy in actual and theorem settings:"
   ]
  },
  {
   "cell_type": "code",
   "execution_count": 11,
   "id": "02eabad4",
   "metadata": {},
   "outputs": [
    {
     "data": {
      "image/png": "[encoded data removed]",
      "text/plain": [
       "<Figure size 640x480 with 2 Axes>"
      ]
     },
     "metadata": {},
     "output_type": "display_data"
    }
   ],
   "source": [
    "fig, axs = plt.subplots(1, 2, layout='constrained')\n",
    "axs[0].plot(n_layers_list, E_list, label='Actual')\n",
    "axs[0].plot(n_layers_list, Therorem_bound, label='Theorem', ls='--')\n",
    "axs[0].set_xlabel('# layer')\n",
    "axs[0].set_ylabel('Log relative dist')\n",
    "axs[0].grid(True)\n",
    "axs[0].legend(handlelength=4)\n",
    "axs[0].set_title('p: ' + str(p_ER) + ', l: ' + str(np.round(Lambda,2)) \n",
    "                 + ', s: ' \n",
    "                 + str(np.round(np.mean(s_max_list), 3)) )\n",
    "axs[0].set_box_aspect(1)\n",
    "\n",
    "low_p = 0.1; high_p = 0.95\n",
    "p_ER = [low_p, low_p]\n",
    "Norm_coeff = 2.5\n",
    "E_list, Therorem_bound, Lambda, s_max_list = Oversmoothing_analysis(N, p_ER, \n",
    "                                                                                k, t, \n",
    "                                                                                n_layers_list, \n",
    "                                                                                Norm_coeff,\n",
    "                                                                                Fea, X0)\n",
    "\n",
    "#%%\n",
    "# np.savez('Oversmoothing_Results_2.npz', array1=E_list, array2=Therorem_bound, array3=Lambda, array4=s_max_list)\n",
    "# a = np.load('Oversmoothing_Results_2.npz')\n",
    "# E_list = a['array1']\n",
    "# Therorem_bound = a['array2']\n",
    "# Lambda = a['array3']\n",
    "# s_max_list = a['array4']\n",
    "\n",
    "axs[1].plot(n_layers_list, E_list, label='Actual')\n",
    "axs[1].plot(n_layers_list, Therorem_bound, label='Theorem', ls='--')\n",
    "axs[1].set_xlabel('# layer')\n",
    "axs[1].set_ylabel('Log relative dist')\n",
    "axs[1].grid(True)\n",
    "axs[1].legend(handlelength=4)\n",
    "axs[1].set_title('p: ' + str(p_ER) + ', l: ' + str(np.round(Lambda,2)) \n",
    "                 + ', s: ' \n",
    "                 + str(np.round(np.mean(s_max_list), 3)) )\n",
    "axs[1].set_box_aspect(1)\n",
    "\n",
    "# plt.savefig('OverSmoothing.png')\n",
    "# plt.savefig(\"OverSmoothing.pdf\")\n",
    "# plt.savefig(\"OverSmoothing.eps\")\n",
    "# plt.savefig(\"OverSmoothing.svg\")\n",
    "plt.show()"
   ]
  }
 ],
 "metadata": {
  "kernelspec": {
   "display_name": "base",
   "language": "python",
   "name": "python3"
  },
  "language_info": {
   "codemirror_mode": {
    "name": "ipython",
    "version": 3
   },
   "file_extension": ".py",
   "mimetype": "text/x-python",
   "name": "python",
   "nbconvert_exporter": "python",
   "pygments_lexer": "ipython3",
   "version": "3.11.5"
  }
 },
 "nbformat": 4,
 "nbformat_minor": 5
}
